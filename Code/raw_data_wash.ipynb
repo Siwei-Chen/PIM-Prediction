{
 "cells": [
  {
   "cell_type": "code",
   "execution_count": null,
   "id": "e6074886-2099-4b43-9508-cd08cba95f4c",
   "metadata": {
    "tags": []
   },
   "outputs": [],
   "source": [
    "# import necessary packages\n",
    "import pandas as pd\n",
    "import rdkit\n",
    "from rdkit import Chem\n",
    "from standardiser import standardise\n",
    "import logging\n",
    "from rdkit.Chem import Descriptors"
   ]
  },
  {
   "cell_type": "code",
   "execution_count": null,
   "id": "5f74b59b-d2c1-40b6-ab26-ca86965a8a9a",
   "metadata": {
    "tags": []
   },
   "outputs": [],
   "source": [
    "# define metal elements used in the following step to filter out certain compounds\n",
    "METAL_ELEMENTS = ['Li', 'Be', 'Na', 'Mg', 'Al', 'K', 'Ca', 'Sc', 'Ti', 'V', 'Cr', 'Mn', 'Fe', 'Co',\n",
    "                  'Ni', 'Cu', 'Zn', 'Ga', 'Ge', 'Rb', 'Sr', 'Y', 'Zr', 'Nb', 'Mo', 'Tc', 'Ru', 'Rh',\n",
    "                  'Pd', 'Ag', 'Cd', 'In', 'Sn', 'Sb', 'Cs', 'Ba', 'Lu', 'Hf', 'Ta', 'W', 'Re', 'Os',\n",
    "                  'Ir', 'Pt', 'Au', 'Hg', 'Tl', 'Pb', 'Bi', 'Po', 'Fr', 'Ra', 'Lr', 'Ho']"
   ]
  },
  {
   "cell_type": "code",
   "execution_count": null,
   "id": "5b748c58-a604-4b44-bc80-3a780ac5148b",
   "metadata": {
    "tags": []
   },
   "outputs": [],
   "source": [
    "# load raw dataset csv file downloaded from database\n",
    "df = pd.read_csv('PIM1.csv')"
   ]
  },
  {
   "cell_type": "code",
   "execution_count": null,
   "id": "2367ae48-2a1b-47e8-8264-7a79c6a7ad9b",
   "metadata": {
    "tags": []
   },
   "outputs": [],
   "source": [
    "# delete rows where 'Smiles' is null\n",
    "df.dropna(axis=0, subset=[\"Smiles\"], inplace=True)"
   ]
  },
  {
   "cell_type": "code",
   "execution_count": null,
   "id": "dc44c349-8187-49ea-8e52-95bb35c98316",
   "metadata": {
    "tags": []
   },
   "outputs": [],
   "source": [
    "# delete molecules with metal element\n",
    "for metal in METAL_ELEMENTS:\n",
    "    df = df[~df['Smiles'].str.contains(metal)]\n",
    "    print(\"no {}\".format(metal),df.shape)    "
   ]
  },
  {
   "cell_type": "code",
   "execution_count": null,
   "id": "1c58c0b6-f7a6-4e26-8a9f-206d495ec861",
   "metadata": {
    "tags": []
   },
   "outputs": [],
   "source": [
    "# standardize molecules\n",
    "for i in df.index:\n",
    "    try:\n",
    "        smi = df.loc[i, 'Smiles']\n",
    "        # print(smi)\n",
    "        mol = Chem.MolFromSmiles(smi)\n",
    "        mol = Chem.AddHs(mol)\n",
    "        parent = standardise.run(mol)\n",
    "        mol_ok_smi = Chem.MolToSmiles(parent)\n",
    "        df.loc[i, 'Smiles'] = mol_ok_smi\n",
    "        # print(i, 'done')\n",
    "    except standardise.StandardiseException as e:\n",
    "        logging.warning(e.message)"
   ]
  },
  {
   "cell_type": "code",
   "execution_count": null,
   "id": "1a3ad76e-da36-4f7f-8a0f-2df1f925de47",
   "metadata": {
    "tags": []
   },
   "outputs": [],
   "source": [
    "# delete duplicated molecule\n",
    "df.drop_duplicates(keep='first', inplace=True)"
   ]
  },
  {
   "cell_type": "code",
   "execution_count": null,
   "id": "2fb3520e-3ee7-4d66-b6fd-81830c2fae42",
   "metadata": {
    "tags": []
   },
   "outputs": [],
   "source": [
    "# extract molecules with 'Standard type' is 'IC50'\n",
    "df1=df[df['Standard Type'].isin([\"IC50\"])]"
   ]
  },
  {
   "cell_type": "code",
   "execution_count": null,
   "id": "60068af1-c4ea-4282-94a4-fde379c7f415",
   "metadata": {
    "tags": []
   },
   "outputs": [],
   "source": [
    "# extract molecules with 'Standard type' is 'Ki'\n",
    "df3=df[df['Standard Type'].isin([\"Ki\"])]"
   ]
  },
  {
   "cell_type": "code",
   "execution_count": null,
   "id": "28f04da0-8322-455a-b92b-b950d50c1b0d",
   "metadata": {
    "tags": []
   },
   "outputs": [],
   "source": [
    "# extract molecules with 'Standard type' is 'Kd'\n",
    "df4=df[df['Standard Type'].isin([\"Kd\"])]"
   ]
  },
  {
   "cell_type": "code",
   "execution_count": null,
   "id": "8d9c72a0-148d-4e5d-b194-5eaa4c775c3b",
   "metadata": {
    "tags": []
   },
   "outputs": [],
   "source": [
    "# merge extracted three datasets\n",
    "frames = [df1, df3, df4]\n",
    "df = pd.concat(frames)"
   ]
  },
  {
   "cell_type": "code",
   "execution_count": null,
   "id": "7676ae69-2611-4f13-84fe-a8bee2b96f9c",
   "metadata": {
    "tags": []
   },
   "outputs": [],
   "source": [
    "# delete molecules where 'Standard Relation' IS NOT '=' (not necessary if the dataset is small scale )\n",
    "df=df[df['Standard Relation'].isin([\"'='\"])]"
   ]
  },
  {
   "cell_type": "code",
   "execution_count": null,
   "id": "d29e9781-dc63-49c5-b3f4-fa168cd6626e",
   "metadata": {
    "tags": []
   },
   "outputs": [],
   "source": [
    "# delete molecules whose 'assay_type' IS NOT 'B' (B=binding,F=functional)\n",
    "df=df[df['Assay Type'].isin([\"B\"])]"
   ]
  },
  {
   "cell_type": "code",
   "execution_count": null,
   "id": "4fd7f715-6dd6-40dd-a9f4-0ea6e7f3f10c",
   "metadata": {
    "tags": []
   },
   "outputs": [],
   "source": [
    "# delete molecules whose'Smiles''Standard Units''Molecule ChEMBL ID''Standard Value' containing null value\n",
    "df=df.dropna(how='any',subset=(['Smiles','Standard Units','Molecule ChEMBL ID','Standard Value']))"
   ]
  },
  {
   "cell_type": "code",
   "execution_count": null,
   "id": "8876df46-902d-4363-963d-68dae3a77d5a",
   "metadata": {
    "tags": []
   },
   "outputs": [],
   "source": [
    "# calculate molecular weight\n",
    "molweight = []\n",
    "for smi in list(df['Smiles']):\n",
    "    molweight.append(Descriptors.MolWt(Chem.MolFromSmiles(smi)))\n",
    "df['molecular_weight'] = molweight"
   ]
  },
  {
   "cell_type": "code",
   "execution_count": null,
   "id": "d211279b-edb8-487f-a043-62ca02bde102",
   "metadata": {
    "tags": []
   },
   "outputs": [],
   "source": [
    "# delete molecules with MW>1000\n",
    "df = df[ df['molecular_weight']<=1000 ]"
   ]
  },
  {
   "cell_type": "code",
   "execution_count": null,
   "id": "a1fdb86c-ff07-4faf-8b7e-4a59c23c01bd",
   "metadata": {
    "tags": []
   },
   "outputs": [],
   "source": [
    "# calculate logP\n",
    "logP = []\n",
    "for smi in list(df['Smiles']):\n",
    "    logP.append(Descriptors.MolLogP(Chem.MolFromSmiles(smi)))\n",
    "df['logP'] = logP"
   ]
  },
  {
   "cell_type": "code",
   "execution_count": null,
   "id": "374b6146-ce85-411c-9591-34fb188d414f",
   "metadata": {
    "tags": []
   },
   "outputs": [],
   "source": [
    "# units conversion (convert all units to nanomole, nM)\n",
    "df['molecular_weight']=df['molecular_weight'].astype(\"float64\")\n",
    "df2 = df[df['Standard Units'].isin([\"nM\"])]\n",
    "df3 = df[df['Standard Units'].isin([\"ug.mL-1\"])]\n",
    "df3['Standard Value'] = df3['Standard Value']/df3['molecular_weight']*1000000\n",
    "df3['Standard Units'] = \"nM\"\n",
    "df = df2.append(df3)"
   ]
  },
  {
   "cell_type": "code",
   "execution_count": null,
   "id": "5e61f6af-cc85-4ffe-8c49-cf7ee6ee6e91",
   "metadata": {
    "tags": []
   },
   "outputs": [],
   "source": [
    "# calculate average value for molecules with same 'smiles'\n",
    "df_mean = df.groupby('Molecule ChEMBL ID')['Standard Value'].mean()\n",
    "print('df',df_mean.shape)\n",
    "\n",
    "df_mean_dict = df_mean.to_dict()\n",
    "\n",
    "df['standard_value_mean'] = df['Molecule ChEMBL ID'].apply(lambda x:df_mean_dict[x])"
   ]
  },
  {
   "cell_type": "code",
   "execution_count": null,
   "id": "e81a0a21-9286-4499-b355-95ca9e8bd7c5",
   "metadata": {
    "tags": []
   },
   "outputs": [],
   "source": [
    "#delete averaged molecules\n",
    "df.drop('Standard Value', axis=1, inplace=True)\n",
    "df.drop_duplicates(subset=['Molecule ChEMBL ID'],inplace=True)\n",
    "df.reset_index(inplace=True)"
   ]
  },
  {
   "cell_type": "code",
   "execution_count": null,
   "id": "b26c3f84-4600-4c5a-9bb8-ed17973021e7",
   "metadata": {
    "tags": []
   },
   "outputs": [],
   "source": [
    "# label conversion\n",
    "df.loc[df['standard_value_mean']<=10000,'standard_value_mean']=1\n",
    "df.loc[df['standard_value_mean']>10000,'standard_value_mean']=0\n",
    "df = pd.DataFrame(df,columns = ['Smiles','standard_value_mean'])\n",
    "df.columns = ['SMILES','LABEL']"
   ]
  },
  {
   "cell_type": "code",
   "execution_count": null,
   "id": "116d8586-5483-40e8-9b50-da231d14adf2",
   "metadata": {
    "tags": []
   },
   "outputs": [],
   "source": [
    "# export washed dataset to a csv file named 'PIM1_data_washed'\n",
    "df.to_csv('PIM1_data_washed.csv', index=None)"
   ]
  }
 ],
 "metadata": {
  "kernelspec": {
   "display_name": "aidd",
   "language": "python",
   "name": "aidd"
  },
  "language_info": {
   "codemirror_mode": {
    "name": "ipython",
    "version": 3
   },
   "file_extension": ".py",
   "mimetype": "text/x-python",
   "name": "python",
   "nbconvert_exporter": "python",
   "pygments_lexer": "ipython3",
   "version": "3.7.16"
  }
 },
 "nbformat": 4,
 "nbformat_minor": 5
}
