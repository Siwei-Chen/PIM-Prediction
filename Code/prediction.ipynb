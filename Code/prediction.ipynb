{
 "cells": [
  {
   "cell_type": "code",
   "execution_count": 1,
   "id": "a5270890-2eb7-438d-80c9-c6486a9c0a95",
   "metadata": {},
   "outputs": [
    {
     "name": "stderr",
     "output_type": "stream",
     "text": [
      "/root/anaconda3/envs/aidd/lib/python3.7/site-packages/tqdm/auto.py:21: TqdmWarning: IProgress not found. Please update jupyter and ipywidgets. See https://ipywidgets.readthedocs.io/en/stable/user_install.html\n",
      "  from .autonotebook import tqdm as notebook_tqdm\n"
     ]
    }
   ],
   "source": [
    "# import necessary packages\n",
    "import numpy as np\n",
    "import pandas as pd\n",
    "from rdkit import Chem\n",
    "from rdkit.Chem import AllChem\n",
    "from rdkit.Chem import MACCSkeys\n",
    "from sklearn.ensemble import RandomForestClassifier\n",
    "from sklearn.model_selection import train_test_split, GridSearchCV\n",
    "from sklearn.metrics import roc_auc_score, confusion_matrix\n",
    "import math\n",
    "from imblearn.over_sampling import SMOTE\n",
    "import shap\n",
    "import matplotlib.pyplot as plt\n",
    "import os\n",
    "import pickle\n",
    "from standardiser import standardise"
   ]
  },
  {
   "cell_type": "code",
   "execution_count": 2,
   "id": "c1a96bec-1f36-44df-bcee-31b24a354e3c",
   "metadata": {},
   "outputs": [],
   "source": [
    "# define scoring function\n",
    "def score(y_test,y_pred):\n",
    "    auc_roc_score = roc_auc_score(y_test, y_pred)\n",
    "    y_pred_print = [round(y,0) for y in y_pred]\n",
    "    tn,fp,fn,tp = confusion_matrix(y_test,y_pred_print).ravel()\n",
    "    se = tp/(tp+fn)\n",
    "    sp = tn/(tn+fp)\n",
    "    q = (tp + tn) / (tp + fn + tn + fp)\n",
    "    mcc = (tp * tn - fn * fp) / math.sqrt((tp + fn) * (tp + fp) * (tn + fn) * (tn + fp))\n",
    "    P = tp / (tp + fp)\n",
    "    F1 = (P * se * 2) / (P + se)\n",
    "    BA = (se + sp) / 2\n",
    "    return tp, tn, fn, fp, se, sp, mcc, q, auc_roc_score, F1, BA"
   ]
  },
  {
   "cell_type": "code",
   "execution_count": 3,
   "id": "3ed8f77f-9ee8-467b-856d-e7c45a40cc30",
   "metadata": {},
   "outputs": [],
   "source": [
    "# import machine learning model from file 'model.pickle'\n",
    "with open('model.pickle', 'rb') as file:\n",
    "   rf=pickle.load(file)"
   ]
  },
  {
   "cell_type": "code",
   "execution_count": 4,
   "id": "e784349d-aa5b-44e9-844d-e9c9981f6d95",
   "metadata": {},
   "outputs": [
    {
     "name": "stderr",
     "output_type": "stream",
     "text": [
      "[14:48:26] Explicit valence for atom # 0 O, 3, is greater than permitted\n",
      "[14:48:26] Explicit valence for atom # 0 O, 3, is greater than permitted\n"
     ]
    }
   ],
   "source": [
    "# load valid dataset\n",
    "df_valid = pd.read_csv('valid.csv')\n",
    "# standardize molecules in valid dataset\n",
    "for i in df_valid.index:\n",
    "    try:\n",
    "        smi = df_valid.loc[i, 'SMILES']\n",
    "        # print(smi)\n",
    "        mol = Chem.MolFromSmiles(smi)\n",
    "        mol = Chem.AddHs(mol)\n",
    "        parent = standardise.run(mol)\n",
    "        mol_ok_smi = Chem.MolToSmiles(parent)\n",
    "        df_valid.loc[i, 'SMILES'] = mol_ok_smi\n",
    "        # print(i, 'done')\n",
    "    except standardise.StandardiseException as e:\n",
    "        logging.warning(e.message)\n",
    "# convert molecule representation from 'smiles' to 'Morgan' 128 bits fingerprint,and export to X_valid\n",
    "X_valid = np.array([AllChem.GetMorganFingerprintAsBitVect(Chem.MolFromSmiles(smi), 2, nBits=128) \n",
    "              for smi in list(df_valid.iloc[:, 0])])\n",
    "# export 'LABEL' to y_valid dataset\n",
    "y_valid = df_valid['Lable'].values"
   ]
  },
  {
   "cell_type": "code",
   "execution_count": 5,
   "id": "b54d8b35-697a-41ea-ae15-e91a34f74240",
   "metadata": {},
   "outputs": [
    {
     "data": {
      "text/plain": [
       "(3,\n",
       " 12,\n",
       " 4,\n",
       " 0,\n",
       " 0.42857142857142855,\n",
       " 1.0,\n",
       " 0.5669467095138409,\n",
       " 0.7894736842105263,\n",
       " 0.7142857142857143,\n",
       " 0.6,\n",
       " 0.7142857142857143)"
      ]
     },
     "execution_count": 5,
     "metadata": {},
     "output_type": "execute_result"
    }
   ],
   "source": [
    "# calculate performance of the model in valid set\n",
    "y_valid_pred = rf.predict(X_valid)\n",
    "score(y_valid,y_valid_pred)"
   ]
  },
  {
   "cell_type": "code",
   "execution_count": 6,
   "id": "257edae5-011c-4feb-96f3-35874797d85f",
   "metadata": {},
   "outputs": [
    {
     "data": {
      "text/plain": [
       "array([0, 0, 0, 1, 1, 0, 0, 1, 0, 0, 1, 1, 1, 0, 1, 0, 0, 0, 0])"
      ]
     },
     "execution_count": 6,
     "metadata": {},
     "output_type": "execute_result"
    }
   ],
   "source": [
    "y_valid"
   ]
  },
  {
   "cell_type": "code",
   "execution_count": 7,
   "id": "870431a8-d300-4ab7-87cd-aa67636e3d51",
   "metadata": {},
   "outputs": [
    {
     "data": {
      "text/plain": [
       "array([0., 0., 0., 1., 1., 0., 0., 1., 0., 0., 0., 0., 0., 0., 0., 0., 0.,\n",
       "       0., 0.])"
      ]
     },
     "execution_count": 7,
     "metadata": {},
     "output_type": "execute_result"
    }
   ],
   "source": [
    "y_valid_pred"
   ]
  }
 ],
 "metadata": {
  "kernelspec": {
   "display_name": "aidd",
   "language": "python",
   "name": "aidd"
  },
  "language_info": {
   "codemirror_mode": {
    "name": "ipython",
    "version": 3
   },
   "file_extension": ".py",
   "mimetype": "text/x-python",
   "name": "python",
   "nbconvert_exporter": "python",
   "pygments_lexer": "ipython3",
   "version": "3.7.16"
  }
 },
 "nbformat": 4,
 "nbformat_minor": 5
}
