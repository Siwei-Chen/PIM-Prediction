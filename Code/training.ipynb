{
 "cells": [
  {
   "cell_type": "code",
   "execution_count": 1,
   "id": "d8e3c4f5-53a3-4b55-be6d-f1cb7928f781",
   "metadata": {},
   "outputs": [
    {
     "name": "stderr",
     "output_type": "stream",
     "text": [
      "/root/anaconda3/envs/aidd/lib/python3.7/site-packages/tqdm/auto.py:21: TqdmWarning: IProgress not found. Please update jupyter and ipywidgets. See https://ipywidgets.readthedocs.io/en/stable/user_install.html\n",
      "  from .autonotebook import tqdm as notebook_tqdm\n"
     ]
    }
   ],
   "source": [
    "# import necessary packages\n",
    "import numpy as np\n",
    "import pandas as pd\n",
    "from rdkit import Chem\n",
    "from rdkit.Chem import AllChem\n",
    "from rdkit.Chem import MACCSkeys\n",
    "from sklearn.ensemble import RandomForestClassifier\n",
    "from sklearn.model_selection import train_test_split, GridSearchCV\n",
    "from sklearn.metrics import roc_auc_score, confusion_matrix\n",
    "import math\n",
    "from imblearn.over_sampling import SMOTE\n",
    "import shap\n",
    "import matplotlib.pyplot as plt\n",
    "import os\n",
    "import pickle\n",
    "from standardiser import standardise"
   ]
  },
  {
   "cell_type": "code",
   "execution_count": 2,
   "id": "4bd01a49-d35b-466b-8272-a11191a13dfd",
   "metadata": {
    "tags": []
   },
   "outputs": [],
   "source": [
    "# define scoring function\n",
    "def score(y_test,y_pred):\n",
    "    auc_roc_score = roc_auc_score(y_test, y_pred)\n",
    "    y_pred_print = [round(y,0) for y in y_pred]\n",
    "    tn,fp,fn,tp = confusion_matrix(y_test,y_pred_print).ravel()\n",
    "    se = tp/(tp+fn)\n",
    "    sp = tn/(tn+fp)\n",
    "    q = (tp + tn) / (tp + fn + tn + fp)\n",
    "    mcc = (tp * tn - fn * fp) / math.sqrt((tp + fn) * (tp + fp) * (tn + fn) * (tn + fp))\n",
    "    P = tp / (tp + fp)\n",
    "    F1 = (P * se * 2) / (P + se)\n",
    "    BA = (se + sp) / 2\n",
    "    return tp, tn, fn, fp, se, sp, mcc, q, auc_roc_score, F1, BA"
   ]
  },
  {
   "cell_type": "code",
   "execution_count": 3,
   "id": "ea7a9c97-24ab-4cea-9e0b-4a389098881a",
   "metadata": {},
   "outputs": [],
   "source": [
    "# load washed dataset\n",
    "df = pd.read_csv('PIM1_data_washed.csv')"
   ]
  },
  {
   "cell_type": "code",
   "execution_count": 4,
   "id": "87fecb7e-09ee-4c6f-a47b-f0cd9ac8eb61",
   "metadata": {},
   "outputs": [],
   "source": [
    "# convert molecule representation from 'smiles' to 'Morgan' 128 bits fingerprint,and export to X dataset\n",
    "X = np.array([AllChem.GetMorganFingerprintAsBitVect(Chem.MolFromSmiles(smi), 2, nBits=128) \n",
    "              for smi in list(df.iloc[:, 0])])"
   ]
  },
  {
   "cell_type": "code",
   "execution_count": 5,
   "id": "392c43ce-0f30-41f5-9f4f-b1b0ba0f8cf4",
   "metadata": {},
   "outputs": [],
   "source": [
    "# export 'LABEL' to y dataset\n",
    "y = df['LABEL'].values"
   ]
  },
  {
   "cell_type": "code",
   "execution_count": 6,
   "id": "ba37edc2-0f57-439c-a2cf-deb58bcc48cb",
   "metadata": {},
   "outputs": [],
   "source": [
    "# split dataset to training set and test set with method train_test_split, training set/test set = 8:2 \n",
    "X_train, X_test, y_train, y_test = train_test_split(X, y,train_size=0.8,random_state=0)"
   ]
  },
  {
   "cell_type": "code",
   "execution_count": 7,
   "id": "e51f63a6-b7a1-4910-a20f-826aa835f134",
   "metadata": {},
   "outputs": [],
   "source": [
    "#oversample positive or negtive samples if the dataset is very imbalance\n",
    "#smote = SMOTE(random_state=1)\n",
    "#X_train, y_train = smote.fit_resample(X_train, y_train)"
   ]
  },
  {
   "cell_type": "code",
   "execution_count": 8,
   "id": "1f8dcc92-4462-43e0-b06b-48072cef5d3a",
   "metadata": {},
   "outputs": [],
   "source": [
    "# define algorithm\n",
    "rf = RandomForestClassifier(n_estimators=100)"
   ]
  },
  {
   "cell_type": "code",
   "execution_count": 9,
   "id": "7d747d27-2327-4aea-b416-f1a7adcf24d6",
   "metadata": {},
   "outputs": [
    {
     "data": {
      "text/plain": [
       "RandomForestClassifier()"
      ]
     },
     "execution_count": 9,
     "metadata": {},
     "output_type": "execute_result"
    }
   ],
   "source": [
    "# train model by fitting X_train with y_train\n",
    "rf.fit(X_train,y_train)"
   ]
  },
  {
   "cell_type": "code",
   "execution_count": 10,
   "id": "c04005aa-2aae-4af5-a47f-289929173d12",
   "metadata": {},
   "outputs": [
    {
     "data": {
      "text/plain": [
       "(753,\n",
       " 689,\n",
       " 1,\n",
       " 1,\n",
       " 0.9986737400530504,\n",
       " 0.9985507246376811,\n",
       " 0.9972244646907316,\n",
       " 0.9986149584487535,\n",
       " 0.9986122323453658,\n",
       " 0.9986737400530504,\n",
       " 0.9986122323453658)"
      ]
     },
     "execution_count": 10,
     "metadata": {},
     "output_type": "execute_result"
    }
   ],
   "source": [
    "# calculate performance of the model in training set\n",
    "y_pred = rf.predict(X_train)\n",
    "score(y_train,y_pred)"
   ]
  },
  {
   "cell_type": "code",
   "execution_count": 11,
   "id": "e971f659-3eba-4e19-b245-f1dfa27f22f1",
   "metadata": {},
   "outputs": [
    {
     "data": {
      "text/plain": [
       "(161,\n",
       " 144,\n",
       " 29,\n",
       " 28,\n",
       " 0.8473684210526315,\n",
       " 0.8372093023255814,\n",
       " 0.6843997355751965,\n",
       " 0.8425414364640884,\n",
       " 0.8422888616891064,\n",
       " 0.8496042216358839,\n",
       " 0.8422888616891064)"
      ]
     },
     "execution_count": 11,
     "metadata": {},
     "output_type": "execute_result"
    }
   ],
   "source": [
    "# calculate performance of the model in test set\n",
    "y_pred = rf.predict(X_test)\n",
    "score(y_test,y_pred)"
   ]
  },
  {
   "cell_type": "code",
   "execution_count": 12,
   "id": "9b903ca0-24b6-45fc-b0d5-4ba5f0ab129b",
   "metadata": {},
   "outputs": [],
   "source": [
    "# export machine learning model to file 'model.pickle'\n",
    "with open('model.pickle', 'wb') as file:\n",
    "    pickle.dump(rf, file)"
   ]
  },
  {
   "cell_type": "code",
   "execution_count": 13,
   "id": "f24cac3f-9b87-44b7-b037-2cab9d97f733",
   "metadata": {},
   "outputs": [],
   "source": [
    "# load valid dataset\n",
    "df_valid = pd.read_csv('valid.csv')"
   ]
  },
  {
   "cell_type": "code",
   "execution_count": 14,
   "id": "45a95e02-efba-4af6-8eba-d301dd5b50e6",
   "metadata": {},
   "outputs": [
    {
     "name": "stderr",
     "output_type": "stream",
     "text": [
      "[14:43:50] Explicit valence for atom # 0 O, 3, is greater than permitted\n",
      "[14:43:50] Explicit valence for atom # 0 O, 3, is greater than permitted\n"
     ]
    }
   ],
   "source": [
    "# standardize molecules in valid dataset\n",
    "for i in df_valid.index:\n",
    "    try:\n",
    "        smi = df_valid.loc[i, 'SMILES']\n",
    "        # print(smi)\n",
    "        mol = Chem.MolFromSmiles(smi)\n",
    "        mol = Chem.AddHs(mol)\n",
    "        parent = standardise.run(mol)\n",
    "        mol_ok_smi = Chem.MolToSmiles(parent)\n",
    "        df_valid.loc[i, 'SMILES'] = mol_ok_smi\n",
    "        # print(i, 'done')\n",
    "    except standardise.StandardiseException as e:\n",
    "        logging.warning(e.message)"
   ]
  },
  {
   "cell_type": "code",
   "execution_count": 15,
   "id": "28d3cdf4-0cb0-46f8-bc78-9467478e3b39",
   "metadata": {},
   "outputs": [],
   "source": [
    "# convert molecule representation from 'smiles' to 'Morgan' 128 bits fingerprint,and export to X_valid\n",
    "X_valid = np.array([AllChem.GetMorganFingerprintAsBitVect(Chem.MolFromSmiles(smi), 2, nBits=128) \n",
    "              for smi in list(df_valid.iloc[:, 0])])"
   ]
  },
  {
   "cell_type": "code",
   "execution_count": 16,
   "id": "5aa8a004-5bba-48bb-8022-c3179d980bfc",
   "metadata": {},
   "outputs": [],
   "source": [
    "# export 'LABEL' to y_valid dataset\n",
    "y_valid = df_valid['Lable'].values"
   ]
  },
  {
   "cell_type": "code",
   "execution_count": 17,
   "id": "d817a8a6-e0bb-4ea3-8db2-36a98ba97386",
   "metadata": {
    "tags": []
   },
   "outputs": [
    {
     "data": {
      "text/plain": [
       "(3,\n",
       " 12,\n",
       " 4,\n",
       " 0,\n",
       " 0.42857142857142855,\n",
       " 1.0,\n",
       " 0.5669467095138409,\n",
       " 0.7894736842105263,\n",
       " 0.7142857142857143,\n",
       " 0.6,\n",
       " 0.7142857142857143)"
      ]
     },
     "execution_count": 17,
     "metadata": {},
     "output_type": "execute_result"
    }
   ],
   "source": [
    "# calculate performance of the model in valid set\n",
    "y_valid_pred = rf.predict(X_valid)\n",
    "score(y_valid,y_valid_pred)"
   ]
  },
  {
   "cell_type": "code",
   "execution_count": 18,
   "id": "d6bbc950-5896-4a27-ad52-d64cc76232f9",
   "metadata": {},
   "outputs": [
    {
     "data": {
      "text/plain": [
       "array([0, 0, 0, 1, 1, 0, 0, 1, 0, 0, 1, 1, 1, 0, 1, 0, 0, 0, 0])"
      ]
     },
     "execution_count": 18,
     "metadata": {},
     "output_type": "execute_result"
    }
   ],
   "source": [
    "y_valid"
   ]
  },
  {
   "cell_type": "code",
   "execution_count": 19,
   "id": "ee087013-67c3-4a25-8b85-8c3d488051e4",
   "metadata": {},
   "outputs": [
    {
     "data": {
      "text/plain": [
       "array([0., 0., 0., 1., 1., 0., 0., 1., 0., 0., 0., 0., 0., 0., 0., 0., 0.,\n",
       "       0., 0.])"
      ]
     },
     "execution_count": 19,
     "metadata": {},
     "output_type": "execute_result"
    }
   ],
   "source": [
    "y_valid_pred"
   ]
  }
 ],
 "metadata": {
  "kernelspec": {
   "display_name": "aidd",
   "language": "python",
   "name": "aidd"
  },
  "language_info": {
   "codemirror_mode": {
    "name": "ipython",
    "version": 3
   },
   "file_extension": ".py",
   "mimetype": "text/x-python",
   "name": "python",
   "nbconvert_exporter": "python",
   "pygments_lexer": "ipython3",
   "version": "3.7.16"
  }
 },
 "nbformat": 4,
 "nbformat_minor": 5
}
