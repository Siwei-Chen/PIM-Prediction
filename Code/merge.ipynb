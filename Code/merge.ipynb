{
 "cells": [
  {
   "cell_type": "code",
   "execution_count": 1,
   "id": "e6074886-2099-4b43-9508-cd08cba95f4c",
   "metadata": {
    "tags": []
   },
   "outputs": [],
   "source": [
    "import pandas as pd\n",
    "import rdkit\n",
    "from rdkit import Chem\n",
    "from standardiser import standardise\n",
    "import logging\n",
    "from rdkit.Chem import Descriptors"
   ]
  },
  {
   "cell_type": "code",
   "execution_count": 2,
   "id": "5b748c58-a604-4b44-bc80-3a780ac5148b",
   "metadata": {
    "tags": []
   },
   "outputs": [],
   "source": [
    "# 加载csv数据\n",
    "df1 = pd.read_csv('PIM1_data_washed.csv')\n",
    "df2 = pd.read_csv('PIM2_data_washed.csv')\n",
    "df3 = pd.read_csv('PIM3_data_washed.csv')"
   ]
  },
  {
   "cell_type": "code",
   "execution_count": 3,
   "id": "3cdbff2f-1dd1-42fb-a851-9be5bd43c208",
   "metadata": {
    "tags": []
   },
   "outputs": [],
   "source": [
    "df = df1.append(df2.append(df3))"
   ]
  },
  {
   "cell_type": "code",
   "execution_count": 4,
   "id": "3b6a1f15-aefc-48ca-8f75-e363b28a31b7",
   "metadata": {},
   "outputs": [
    {
     "data": {
      "text/plain": [
       "(2812, 2)"
      ]
     },
     "execution_count": 4,
     "metadata": {},
     "output_type": "execute_result"
    }
   ],
   "source": [
    "#此时所有单位都换算为nM\n",
    "df.shape"
   ]
  },
  {
   "cell_type": "code",
   "execution_count": 5,
   "id": "116d8586-5483-40e8-9b50-da231d14adf2",
   "metadata": {
    "tags": []
   },
   "outputs": [],
   "source": [
    "# 保存清洗后的数据\n",
    "df.to_csv('PIM_data_washed.csv', index=None)"
   ]
  },
  {
   "cell_type": "code",
   "execution_count": null,
   "id": "44215ba1-3b18-4844-8d09-4466bf9818a0",
   "metadata": {},
   "outputs": [],
   "source": []
  }
 ],
 "metadata": {
  "kernelspec": {
   "display_name": "aidd",
   "language": "python",
   "name": "aidd"
  },
  "language_info": {
   "codemirror_mode": {
    "name": "ipython",
    "version": 3
   },
   "file_extension": ".py",
   "mimetype": "text/x-python",
   "name": "python",
   "nbconvert_exporter": "python",
   "pygments_lexer": "ipython3",
   "version": "3.7.16"
  }
 },
 "nbformat": 4,
 "nbformat_minor": 5
}
